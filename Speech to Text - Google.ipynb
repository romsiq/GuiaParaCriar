{
 "cells": [
  {
   "cell_type": "code",
   "execution_count": 2,
   "metadata": {},
   "outputs": [
    {
     "name": "stdout",
     "output_type": "stream",
     "text": [
      "Collecting SpeechRecognition\n",
      "\u001b[?25l  Downloading https://files.pythonhosted.org/packages/26/e1/7f5678cd94ec1234269d23756dbdaa4c8cfaed973412f88ae8adf7893a50/SpeechRecognition-3.8.1-py2.py3-none-any.whl (32.8MB)\n",
      "\u001b[K    100% |████████████████████████████████| 32.8MB 268kB/s ta 0:00:01   20% |██████▌                         | 6.6MB 69kB/s eta 0:06:17    80% |█████████████████████████▉      | 26.5MB 640kB/s eta 0:00:10\n",
      "\u001b[?25hInstalling collected packages: SpeechRecognition\n",
      "Successfully installed SpeechRecognition-3.8.1\n",
      "\u001b[33mYou are using pip version 18.1, however version 19.1.1 is available.\n",
      "You should consider upgrading via the 'pip install --upgrade pip' command.\u001b[0m\n"
     ]
    }
   ],
   "source": [
    "!pip install SpeechRecognition"
   ]
  },
  {
   "cell_type": "code",
   "execution_count": 4,
   "metadata": {},
   "outputs": [],
   "source": [
    "import speech_recognition as sr"
   ]
  },
  {
   "cell_type": "code",
   "execution_count": 5,
   "metadata": {},
   "outputs": [],
   "source": [
    "r=sr.Recognizer()"
   ]
  },
  {
   "cell_type": "code",
   "execution_count": 11,
   "metadata": {},
   "outputs": [
    {
     "name": "stdout",
     "output_type": "stream",
     "text": [
      "encerramento sempre que coloca informações diante do seu público você está gerando carga cognitiva e pedindo para ele que usa o poder do cérebro para processar as informações a saturação visual criar carga cognitiva excessiva para o que pode atrapalhar a transmissão da nossa mensagem os princípios de Gestalt para percepção visual podem ajudar a entender como seu público vê e permite que você Identifique e remova os elementos visuais e necessários O saneamento de elementos e mantém espaço em branco para ajudar a tornar a interpretação de seus recursos visuais uma experiência mais agradável para seu público os encontrasse esse atleticamente a saturação é sua inimiga elimine as decisões visuais\n"
     ]
    }
   ],
   "source": [
    "ligacao=sr.AudioFile('/Users/romsiq/Downloads/fala2.wav')\n",
    "\n",
    "with ligacao as source:\n",
    "    r.adjust_for_ambient_noise(source)\n",
    "    audio=r.record(source)\n",
    "val=r.recognize_google(audio,language='pt')\n",
    "\n",
    "print(val, end='\\n')"
   ]
  },
  {
   "cell_type": "code",
   "execution_count": null,
   "metadata": {},
   "outputs": [],
   "source": []
  }
 ],
 "metadata": {
  "kernelspec": {
   "display_name": "Python 3",
   "language": "python",
   "name": "python3"
  },
  "language_info": {
   "codemirror_mode": {
    "name": "ipython",
    "version": 3
   },
   "file_extension": ".py",
   "mimetype": "text/x-python",
   "name": "python",
   "nbconvert_exporter": "python",
   "pygments_lexer": "ipython3",
   "version": "3.6.4"
  }
 },
 "nbformat": 4,
 "nbformat_minor": 2
}
