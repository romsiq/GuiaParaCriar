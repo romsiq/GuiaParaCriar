{
  "nbformat": 4,
  "nbformat_minor": 0,
  "metadata": {
    "colab": {
      "name": "DHT11_Coleta",
      "provenance": []
    },
    "kernelspec": {
      "name": "python3",
      "display_name": "Python 3"
    }
  },
  "cells": [
    {
      "cell_type": "code",
      "metadata": {
        "id": "vM4IBPNpAzB9",
        "colab_type": "code",
        "colab": {}
      },
      "source": [
        "# Bibliotecas Necessárias \n",
        "import pandas as pd\n",
        "import numpy as np\n",
        "import seaborn as sns\n",
        "from IPython.core.pylabtools import figsize\n",
        "import matplotlib.pyplot as plt\n",
        "%matplotlib inline\n",
        "plt.style.use('fivethirtyeight')\n",
        "from datetime import datetime\n",
        "from pandas import Series\n",
        "\n",
        "import scipy as sp\n",
        "from scipy.stats import norm"
      ],
      "execution_count": null,
      "outputs": []
    },
    {
      "cell_type": "code",
      "metadata": {
        "id": "5UPeEcTdBypd",
        "colab_type": "code",
        "colab": {
          "base_uri": "https://localhost:8080/",
          "height": 289
        },
        "outputId": "dc32e2d7-7c0d-478e-dbb3-7635c26fc112"
      },
      "source": [
        "# Acesso aos arquivos no Google Driver\n",
        "from google.colab import drive\n",
        "drive.mount('/content/gdrive')\n",
        "!ln -s /content/gdrive/My\\ Drive/ /mydrive\n",
        "!ls /mydrive"
      ],
      "execution_count": null,
      "outputs": [
        {
          "output_type": "stream",
          "text": [
            "Drive already mounted at /content/gdrive; to attempt to forcibly remount, call drive.mount(\"/content/gdrive\", force_remount=True).\n",
            "ln: failed to create symbolic link '/mydrive/My Drive': File exists\n",
            " aula1.pbix\t\t\t\t Pedidos2016.xlsx\n",
            " aula3.pbix\t\t\t\t Pedidos2017.xlsx\n",
            "'Colab Notebooks'\t\t\t Pedidos2018.xlsx\n",
            " Concessionarias.csv\t\t\t Pedidos2019.xlsx\n",
            " ConcessionariasXMarcas.xlsx\t\t puffinbrowser\n",
            " darknet\t\t\t\t Tendencias_2019.pdf\n",
            " detalhe_pedido.xlsx\t\t\t umidade\n",
            "'Historia da Maquiagem Decada 30.pptx'\t VeiculosXFabricantes.xlsx\n",
            "'Lojas Maquiagem.gsheet'\t\t vendedores.txt\n",
            " modelo_google\t\t\t\t'Visao Computacional - Saulo'\n",
            " models-master\t\t\t\t yolov3\n",
            "'My Drive'\n"
          ],
          "name": "stdout"
        }
      ]
    },
    {
      "cell_type": "code",
      "metadata": {
        "id": "1qnETBDPClU8",
        "colab_type": "code",
        "colab": {
          "base_uri": "https://localhost:8080/",
          "height": 89
        },
        "outputId": "aff42d2b-0f95-44fe-d493-2630deef8c60"
      },
      "source": [
        "!ls = /content/gdrive/My\\ Drive/umidade"
      ],
      "execution_count": null,
      "outputs": [
        {
          "output_type": "stream",
          "text": [
            "ls: cannot access '=': No such file or directory\n",
            "'/content/gdrive/My Drive/umidade':\n",
            "coleta_temp_umidade_ameno.csv  coleta_umidade_solo.csv\tsoil_moisture.py\n",
            "coleta_temp_umidade.csv        dht11.py\n"
          ],
          "name": "stdout"
        }
      ]
    },
    {
      "cell_type": "code",
      "metadata": {
        "id": "W_ZxYvrZDcK_",
        "colab_type": "code",
        "colab": {}
      },
      "source": [
        "# Leitura da primeira coleta de dados\n",
        "coleta_1 = pd.read_csv('/content/gdrive/My Drive/umidade/coleta_temp_umidade.csv', delimiter=\",\")"
      ],
      "execution_count": null,
      "outputs": []
    },
    {
      "cell_type": "code",
      "metadata": {
        "id": "IX4z6qnDFqFR",
        "colab_type": "code",
        "colab": {
          "base_uri": "https://localhost:8080/",
          "height": 204
        },
        "outputId": "9bde7135-3bdd-4fd1-a7cd-e33119b3c408"
      },
      "source": [
        "coleta_1.head()"
      ],
      "execution_count": null,
      "outputs": [
        {
          "output_type": "execute_result",
          "data": {
            "text/html": [
              "<div>\n",
              "<style scoped>\n",
              "    .dataframe tbody tr th:only-of-type {\n",
              "        vertical-align: middle;\n",
              "    }\n",
              "\n",
              "    .dataframe tbody tr th {\n",
              "        vertical-align: top;\n",
              "    }\n",
              "\n",
              "    .dataframe thead th {\n",
              "        text-align: right;\n",
              "    }\n",
              "</style>\n",
              "<table border=\"1\" class=\"dataframe\">\n",
              "  <thead>\n",
              "    <tr style=\"text-align: right;\">\n",
              "      <th></th>\n",
              "      <th>coleta</th>\n",
              "      <th>umid</th>\n",
              "      <th>temp</th>\n",
              "    </tr>\n",
              "  </thead>\n",
              "  <tbody>\n",
              "    <tr>\n",
              "      <th>0</th>\n",
              "      <td>12/08/2020 22:54:05</td>\n",
              "      <td>61.0</td>\n",
              "      <td>24.0</td>\n",
              "    </tr>\n",
              "    <tr>\n",
              "      <th>1</th>\n",
              "      <td>12/08/2020 22:54:20</td>\n",
              "      <td>66.0</td>\n",
              "      <td>24.0</td>\n",
              "    </tr>\n",
              "    <tr>\n",
              "      <th>2</th>\n",
              "      <td>12/08/2020 22:54:26</td>\n",
              "      <td>66.0</td>\n",
              "      <td>24.0</td>\n",
              "    </tr>\n",
              "    <tr>\n",
              "      <th>3</th>\n",
              "      <td>12/08/2020 22:54:34</td>\n",
              "      <td>62.0</td>\n",
              "      <td>24.0</td>\n",
              "    </tr>\n",
              "    <tr>\n",
              "      <th>4</th>\n",
              "      <td>12/08/2020 22:54:39</td>\n",
              "      <td>66.0</td>\n",
              "      <td>24.0</td>\n",
              "    </tr>\n",
              "  </tbody>\n",
              "</table>\n",
              "</div>"
            ],
            "text/plain": [
              "                coleta  umid  temp\n",
              "0  12/08/2020 22:54:05  61.0  24.0\n",
              "1  12/08/2020 22:54:20  66.0  24.0\n",
              "2  12/08/2020 22:54:26  66.0  24.0\n",
              "3  12/08/2020 22:54:34  62.0  24.0\n",
              "4  12/08/2020 22:54:39  66.0  24.0"
            ]
          },
          "metadata": {
            "tags": []
          },
          "execution_count": 146
        }
      ]
    },
    {
      "cell_type": "code",
      "metadata": {
        "id": "5J1vnZpYFtl3",
        "colab_type": "code",
        "colab": {}
      },
      "source": [
        "# Leitura da segunda coleta de dados\n",
        "coleta_2 = pd.read_csv('/content/gdrive/My Drive/umidade/coleta_temp_umidade_ameno.csv', delimiter=\",\")"
      ],
      "execution_count": null,
      "outputs": []
    },
    {
      "cell_type": "code",
      "metadata": {
        "id": "SMd8Lea0NrFv",
        "colab_type": "code",
        "colab": {
          "base_uri": "https://localhost:8080/",
          "height": 204
        },
        "outputId": "e82dae39-ba24-417c-869c-825fb13dbbf1"
      },
      "source": [
        "coleta_2.head()"
      ],
      "execution_count": null,
      "outputs": [
        {
          "output_type": "execute_result",
          "data": {
            "text/html": [
              "<div>\n",
              "<style scoped>\n",
              "    .dataframe tbody tr th:only-of-type {\n",
              "        vertical-align: middle;\n",
              "    }\n",
              "\n",
              "    .dataframe tbody tr th {\n",
              "        vertical-align: top;\n",
              "    }\n",
              "\n",
              "    .dataframe thead th {\n",
              "        text-align: right;\n",
              "    }\n",
              "</style>\n",
              "<table border=\"1\" class=\"dataframe\">\n",
              "  <thead>\n",
              "    <tr style=\"text-align: right;\">\n",
              "      <th></th>\n",
              "      <th>coleta</th>\n",
              "      <th>umid</th>\n",
              "      <th>temp</th>\n",
              "    </tr>\n",
              "  </thead>\n",
              "  <tbody>\n",
              "    <tr>\n",
              "      <th>0</th>\n",
              "      <td>13/08/2020 08:54:43</td>\n",
              "      <td>68.0</td>\n",
              "      <td>21.0</td>\n",
              "    </tr>\n",
              "    <tr>\n",
              "      <th>1</th>\n",
              "      <td>13/08/2020 08:54:51</td>\n",
              "      <td>69.0</td>\n",
              "      <td>21.0</td>\n",
              "    </tr>\n",
              "    <tr>\n",
              "      <th>2</th>\n",
              "      <td>13/08/2020 08:55:06</td>\n",
              "      <td>74.0</td>\n",
              "      <td>21.0</td>\n",
              "    </tr>\n",
              "    <tr>\n",
              "      <th>3</th>\n",
              "      <td>13/08/2020 08:55:12</td>\n",
              "      <td>74.0</td>\n",
              "      <td>21.0</td>\n",
              "    </tr>\n",
              "    <tr>\n",
              "      <th>4</th>\n",
              "      <td>13/08/2020 08:55:17</td>\n",
              "      <td>68.0</td>\n",
              "      <td>21.0</td>\n",
              "    </tr>\n",
              "  </tbody>\n",
              "</table>\n",
              "</div>"
            ],
            "text/plain": [
              "                coleta  umid  temp\n",
              "0  13/08/2020 08:54:43  68.0  21.0\n",
              "1  13/08/2020 08:54:51  69.0  21.0\n",
              "2  13/08/2020 08:55:06  74.0  21.0\n",
              "3  13/08/2020 08:55:12  74.0  21.0\n",
              "4  13/08/2020 08:55:17  68.0  21.0"
            ]
          },
          "metadata": {
            "tags": []
          },
          "execution_count": 148
        }
      ]
    },
    {
      "cell_type": "code",
      "metadata": {
        "id": "mS1UZ-jqPtZj",
        "colab_type": "code",
        "colab": {
          "base_uri": "https://localhost:8080/",
          "height": 297
        },
        "outputId": "30f74793-1139-435f-ebc4-69351dc70fb3"
      },
      "source": [
        "coleta_1.describe()"
      ],
      "execution_count": null,
      "outputs": [
        {
          "output_type": "execute_result",
          "data": {
            "text/html": [
              "<div>\n",
              "<style scoped>\n",
              "    .dataframe tbody tr th:only-of-type {\n",
              "        vertical-align: middle;\n",
              "    }\n",
              "\n",
              "    .dataframe tbody tr th {\n",
              "        vertical-align: top;\n",
              "    }\n",
              "\n",
              "    .dataframe thead th {\n",
              "        text-align: right;\n",
              "    }\n",
              "</style>\n",
              "<table border=\"1\" class=\"dataframe\">\n",
              "  <thead>\n",
              "    <tr style=\"text-align: right;\">\n",
              "      <th></th>\n",
              "      <th>umid</th>\n",
              "      <th>temp</th>\n",
              "    </tr>\n",
              "  </thead>\n",
              "  <tbody>\n",
              "    <tr>\n",
              "      <th>count</th>\n",
              "      <td>248.000000</td>\n",
              "      <td>248.000000</td>\n",
              "    </tr>\n",
              "    <tr>\n",
              "      <th>mean</th>\n",
              "      <td>64.250000</td>\n",
              "      <td>23.165323</td>\n",
              "    </tr>\n",
              "    <tr>\n",
              "      <th>std</th>\n",
              "      <td>1.406319</td>\n",
              "      <td>0.372223</td>\n",
              "    </tr>\n",
              "    <tr>\n",
              "      <th>min</th>\n",
              "      <td>61.000000</td>\n",
              "      <td>23.000000</td>\n",
              "    </tr>\n",
              "    <tr>\n",
              "      <th>25%</th>\n",
              "      <td>63.000000</td>\n",
              "      <td>23.000000</td>\n",
              "    </tr>\n",
              "    <tr>\n",
              "      <th>50%</th>\n",
              "      <td>64.000000</td>\n",
              "      <td>23.000000</td>\n",
              "    </tr>\n",
              "    <tr>\n",
              "      <th>75%</th>\n",
              "      <td>64.000000</td>\n",
              "      <td>23.000000</td>\n",
              "    </tr>\n",
              "    <tr>\n",
              "      <th>max</th>\n",
              "      <td>68.000000</td>\n",
              "      <td>24.000000</td>\n",
              "    </tr>\n",
              "  </tbody>\n",
              "</table>\n",
              "</div>"
            ],
            "text/plain": [
              "             umid        temp\n",
              "count  248.000000  248.000000\n",
              "mean    64.250000   23.165323\n",
              "std      1.406319    0.372223\n",
              "min     61.000000   23.000000\n",
              "25%     63.000000   23.000000\n",
              "50%     64.000000   23.000000\n",
              "75%     64.000000   23.000000\n",
              "max     68.000000   24.000000"
            ]
          },
          "metadata": {
            "tags": []
          },
          "execution_count": 183
        }
      ]
    },
    {
      "cell_type": "code",
      "metadata": {
        "id": "SKCixGrgP-Be",
        "colab_type": "code",
        "colab": {
          "base_uri": "https://localhost:8080/",
          "height": 297
        },
        "outputId": "6892c6ed-f092-44aa-d840-18278182dbca"
      },
      "source": [
        "coleta_2.describe()"
      ],
      "execution_count": null,
      "outputs": [
        {
          "output_type": "execute_result",
          "data": {
            "text/html": [
              "<div>\n",
              "<style scoped>\n",
              "    .dataframe tbody tr th:only-of-type {\n",
              "        vertical-align: middle;\n",
              "    }\n",
              "\n",
              "    .dataframe tbody tr th {\n",
              "        vertical-align: top;\n",
              "    }\n",
              "\n",
              "    .dataframe thead th {\n",
              "        text-align: right;\n",
              "    }\n",
              "</style>\n",
              "<table border=\"1\" class=\"dataframe\">\n",
              "  <thead>\n",
              "    <tr style=\"text-align: right;\">\n",
              "      <th></th>\n",
              "      <th>umid</th>\n",
              "      <th>temp</th>\n",
              "    </tr>\n",
              "  </thead>\n",
              "  <tbody>\n",
              "    <tr>\n",
              "      <th>count</th>\n",
              "      <td>357.000000</td>\n",
              "      <td>357.0</td>\n",
              "    </tr>\n",
              "    <tr>\n",
              "      <th>mean</th>\n",
              "      <td>69.190476</td>\n",
              "      <td>21.0</td>\n",
              "    </tr>\n",
              "    <tr>\n",
              "      <th>std</th>\n",
              "      <td>1.989472</td>\n",
              "      <td>0.0</td>\n",
              "    </tr>\n",
              "    <tr>\n",
              "      <th>min</th>\n",
              "      <td>68.000000</td>\n",
              "      <td>21.0</td>\n",
              "    </tr>\n",
              "    <tr>\n",
              "      <th>25%</th>\n",
              "      <td>68.000000</td>\n",
              "      <td>21.0</td>\n",
              "    </tr>\n",
              "    <tr>\n",
              "      <th>50%</th>\n",
              "      <td>68.000000</td>\n",
              "      <td>21.0</td>\n",
              "    </tr>\n",
              "    <tr>\n",
              "      <th>75%</th>\n",
              "      <td>69.000000</td>\n",
              "      <td>21.0</td>\n",
              "    </tr>\n",
              "    <tr>\n",
              "      <th>max</th>\n",
              "      <td>74.000000</td>\n",
              "      <td>21.0</td>\n",
              "    </tr>\n",
              "  </tbody>\n",
              "</table>\n",
              "</div>"
            ],
            "text/plain": [
              "             umid   temp\n",
              "count  357.000000  357.0\n",
              "mean    69.190476   21.0\n",
              "std      1.989472    0.0\n",
              "min     68.000000   21.0\n",
              "25%     68.000000   21.0\n",
              "50%     68.000000   21.0\n",
              "75%     69.000000   21.0\n",
              "max     74.000000   21.0"
            ]
          },
          "metadata": {
            "tags": []
          },
          "execution_count": 184
        }
      ]
    },
    {
      "cell_type": "code",
      "metadata": {
        "id": "rf3GpYnzQKJ3",
        "colab_type": "code",
        "colab": {}
      },
      "source": [
        "# Na coleta 1 temos 248 registros, na coleta 2 temos 357 registros.\n",
        "# Concaternar os dataframes\n",
        "\n",
        "coletas = [coleta_1, coleta_2]\n",
        "coletas = pd.concat(coletas)"
      ],
      "execution_count": null,
      "outputs": []
    },
    {
      "cell_type": "code",
      "metadata": {
        "id": "Dul-_0EdRXVM",
        "colab_type": "code",
        "colab": {
          "base_uri": "https://localhost:8080/",
          "height": 517
        },
        "outputId": "5896d2b3-bffd-4644-a227-419522aec984"
      },
      "source": [
        "# Realizando um Histograma sobre a Umidade, assim como a sua Densidade e Normalidade.\n",
        "figsize(16,8)\n",
        "sns.distplot(coletas[\"umid\"], hist=True, bins=int(90/5), fit=norm)"
      ],
      "execution_count": null,
      "outputs": [
        {
          "output_type": "execute_result",
          "data": {
            "text/plain": [
              "<matplotlib.axes._subplots.AxesSubplot at 0x7fd8951cb9e8>"
            ]
          },
          "metadata": {
            "tags": []
          },
          "execution_count": 125
        },
        {
          "output_type": "display_data",
          "data": {
            "image/png": "[encoded data removed]",
            "text/plain": [
              "<Figure size 1152x576 with 1 Axes>"
            ]
          },
          "metadata": {
            "tags": []
          }
        }
      ]
    },
    {
      "cell_type": "code",
      "metadata": {
        "id": "0B0odm_kRwr_",
        "colab_type": "code",
        "colab": {
          "base_uri": "https://localhost:8080/",
          "height": 522
        },
        "outputId": "12b81961-3c5e-488c-c6e1-66661ce846fb"
      },
      "source": [
        "# Realizando um Histograma sobre a Temperatura, assim como a sua Densidade e Normalidade.\n",
        "figsize(16,8)\n",
        "sns.distplot(coletas[\"temp\"], hist=True, bins=int(90/5), fit=norm)"
      ],
      "execution_count": null,
      "outputs": [
        {
          "output_type": "execute_result",
          "data": {
            "text/plain": [
              "<matplotlib.axes._subplots.AxesSubplot at 0x7fd894f8c8d0>"
            ]
          },
          "metadata": {
            "tags": []
          },
          "execution_count": 126
        },
        {
          "output_type": "display_data",
          "data": {
            "image/png": "[encoded data removed]",
            "text/plain": [
              "<Figure size 1152x576 with 1 Axes>"
            ]
          },
          "metadata": {
            "tags": []
          }
        }
      ]
    },
    {
      "cell_type": "code",
      "metadata": {
        "id": "DT8wMWw3bMIm",
        "colab_type": "code",
        "colab": {
          "base_uri": "https://localhost:8080/",
          "height": 519
        },
        "outputId": "f49a50d9-efcf-4e6a-ab2d-fb0044b82d72"
      },
      "source": [
        "# Correlação entre as variáveis Umidade e Temperatura\n",
        "plt.figure(figsize=(15,8))\n",
        "plt.scatter(coletas.umid, coletas.temp, color='blue')\n",
        "plt.xlabel(\"Umidade\")\n",
        "plt.ylabel(\"Temperatura\")\n",
        "plt.show()\n",
        "\n",
        "\n",
        "# A Agência de Vigilância Sanitária, a Anvisa, diz que a temperatura ideal em ambientes fechados é \n",
        "# algo entre 23°C e 26°C.\n",
        "\n",
        "# De acordo com a Organização Mundial de Saúde (OMS), a umidade relativa do ar deve variar entre 50% e 80%. "
      ],
      "execution_count": null,
      "outputs": [
        {
          "output_type": "display_data",
          "data": {
            "image/png": "[encoded data removed]",
            "text/plain": [
              "<Figure size 1080x576 with 1 Axes>"
            ]
          },
          "metadata": {
            "tags": []
          }
        }
      ]
    },
    {
      "cell_type": "code",
      "metadata": {
        "id": "ncctAbUIbL41",
        "colab_type": "code",
        "colab": {}
      },
      "source": [
        ""
      ],
      "execution_count": null,
      "outputs": []
    },
    {
      "cell_type": "code",
      "metadata": {
        "id": "A-or6GhfWmz8",
        "colab_type": "code",
        "colab": {}
      },
      "source": [
        ""
      ],
      "execution_count": null,
      "outputs": []
    }
  ]
}