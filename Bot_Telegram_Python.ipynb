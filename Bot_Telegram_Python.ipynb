{
  "nbformat": 4,
  "nbformat_minor": 0,
  "metadata": {
    "kernelspec": {
      "display_name": "Python 3",
      "language": "python",
      "name": "python3"
    },
    "language_info": {
      "codemirror_mode": {
        "name": "ipython",
        "version": 3
      },
      "file_extension": ".py",
      "mimetype": "text/x-python",
      "name": "python",
      "nbconvert_exporter": "python",
      "pygments_lexer": "ipython3",
      "version": "3.6.4"
    },
    "colab": {
      "name": "Bot Telegram Python.ipynb",
      "provenance": [],
      "collapsed_sections": [],
      "include_colab_link": true
    }
  },
  "cells": [
    {
      "cell_type": "markdown",
      "metadata": {
        "id": "view-in-github",
        "colab_type": "text"
      },
      "source": [
        "<a href=\"https://colab.research.google.com/github/romsiq/GuiaParaCriar/blob/master/Bot_Telegram_Python.ipynb\" target=\"_parent\"><img src=\"https://colab.research.google.com/assets/colab-badge.svg\" alt=\"Open In Colab\"/></a>"
      ]
    },
    {
      "cell_type": "markdown",
      "metadata": {
        "id": "dX0PMnc5nE1-",
        "colab_type": "text"
      },
      "source": [
        "# **Assistente Virtual no Telegram - Tema: Maquiagem **\n",
        "\n",
        "\n"
      ]
    },
    {
      "cell_type": "code",
      "metadata": {
        "id": "d92EbLr_SASC",
        "colab_type": "code",
        "colab": {
          "base_uri": "https://localhost:8080/",
          "height": 564
        },
        "outputId": "413e5852-f58d-48a1-faab-04ed016cb683"
      },
      "source": [
        "# Execute este comando para instalar o telepot\n",
        "!pip install telepot"
      ],
      "execution_count": 3,
      "outputs": [
        {
          "output_type": "stream",
          "text": [
            "Collecting telepot\n",
            "\u001b[?25l  Downloading https://files.pythonhosted.org/packages/f6/a8/0ed945afd8064b850c1653816c16ebda1cf07d65fee228b6d1139a49cbbd/telepot-12.7.tar.gz (73kB)\n",
            "\u001b[K     |████████████████████████████████| 81kB 2.2MB/s \n",
            "\u001b[?25hRequirement already satisfied: urllib3>=1.9.1 in /usr/local/lib/python3.6/dist-packages (from telepot) (1.24.3)\n",
            "Collecting aiohttp>=3.0.0\n",
            "\u001b[?25l  Downloading https://files.pythonhosted.org/packages/7c/39/7eb5f98d24904e0f6d3edb505d4aa60e3ef83c0a58d6fe18244a51757247/aiohttp-3.6.2-cp36-cp36m-manylinux1_x86_64.whl (1.2MB)\n",
            "\u001b[K     |████████████████████████████████| 1.2MB 8.6MB/s \n",
            "\u001b[?25hCollecting yarl<2.0,>=1.0\n",
            "\u001b[?25l  Downloading https://files.pythonhosted.org/packages/95/8f/0209fc5d975f839344c33c822ff2f7ef80f6b1e984673a5a68f960bfa583/yarl-1.4.2-cp36-cp36m-manylinux1_x86_64.whl (252kB)\n",
            "\u001b[K     |████████████████████████████████| 256kB 25.0MB/s \n",
            "\u001b[?25hCollecting idna-ssl>=1.0; python_version < \"3.7\"\n",
            "  Downloading https://files.pythonhosted.org/packages/46/03/07c4894aae38b0de52b52586b24bf189bb83e4ddabfe2e2c8f2419eec6f4/idna-ssl-1.1.0.tar.gz\n",
            "Requirement already satisfied: chardet<4.0,>=2.0 in /usr/local/lib/python3.6/dist-packages (from aiohttp>=3.0.0->telepot) (3.0.4)\n",
            "Requirement already satisfied: typing-extensions>=3.6.5; python_version < \"3.7\" in /usr/local/lib/python3.6/dist-packages (from aiohttp>=3.0.0->telepot) (3.6.6)\n",
            "Collecting async-timeout<4.0,>=3.0\n",
            "  Downloading https://files.pythonhosted.org/packages/e1/1e/5a4441be21b0726c4464f3f23c8b19628372f606755a9d2e46c187e65ec4/async_timeout-3.0.1-py3-none-any.whl\n",
            "Collecting multidict<5.0,>=4.5\n",
            "\u001b[?25l  Downloading https://files.pythonhosted.org/packages/1a/95/f50352b5366e7d579e8b99631680a9e32e1b22adfa1629a8f23b1d22d5e2/multidict-4.7.6-cp36-cp36m-manylinux1_x86_64.whl (148kB)\n",
            "\u001b[K     |████████████████████████████████| 153kB 39.3MB/s \n",
            "\u001b[?25hRequirement already satisfied: attrs>=17.3.0 in /usr/local/lib/python3.6/dist-packages (from aiohttp>=3.0.0->telepot) (19.3.0)\n",
            "Requirement already satisfied: idna>=2.0 in /usr/local/lib/python3.6/dist-packages (from yarl<2.0,>=1.0->aiohttp>=3.0.0->telepot) (2.9)\n",
            "Building wheels for collected packages: telepot, idna-ssl\n",
            "  Building wheel for telepot (setup.py) ... \u001b[?25l\u001b[?25hdone\n",
            "  Created wheel for telepot: filename=telepot-12.7-cp36-none-any.whl size=57963 sha256=13491221f0fd50725d445bad794574b2ca62840833d19fece04fcede08530ea1\n",
            "  Stored in directory: /root/.cache/pip/wheels/65/17/50/983034e27e6b5d8dfc497a51b5b13d970d8018a83f47e6513a\n",
            "  Building wheel for idna-ssl (setup.py) ... \u001b[?25l\u001b[?25hdone\n",
            "  Created wheel for idna-ssl: filename=idna_ssl-1.1.0-cp36-none-any.whl size=3162 sha256=d8b6b8a4276765ebb3775981f3b859ff48a9394c62b4661e433b8e7fbfed5f07\n",
            "  Stored in directory: /root/.cache/pip/wheels/d3/00/b3/32d613e19e08a739751dd6bf998cfed277728f8b2127ad4eb7\n",
            "Successfully built telepot idna-ssl\n",
            "Installing collected packages: multidict, yarl, idna-ssl, async-timeout, aiohttp, telepot\n",
            "Successfully installed aiohttp-3.6.2 async-timeout-3.0.1 idna-ssl-1.1.0 multidict-4.7.6 telepot-12.7 yarl-1.4.2\n"
          ],
          "name": "stdout"
        }
      ]
    },
    {
      "cell_type": "markdown",
      "metadata": {
        "id": "2R1HN8g8nsFG",
        "colab_type": "text"
      },
      "source": [
        "# **# Execute este comando para importar as bibliotecas necessárias.**"
      ]
    },
    {
      "cell_type": "code",
      "metadata": {
        "id": "EGTEHUeeR4Lp",
        "colab_type": "code",
        "colab": {}
      },
      "source": [
        "import telepot\n",
        "from telepot.namedtuple import InlineKeyboardButton, InlineKeyboardMarkup\n",
        "import sys, time\n",
        "from pprint import pprint\n",
        "import pandas as pd\n",
        "import requests\n",
        "import csv    \n",
        "import io"
      ],
      "execution_count": 4,
      "outputs": []
    },
    {
      "cell_type": "code",
      "metadata": {
        "id": "BFy4IQ2KR4Lw",
        "colab_type": "code",
        "colab": {}
      },
      "source": [
        "# Insira o Token da Assistente criado no Telegram\n",
        "isabot = telepot.Bot(\"1192137360:AAEMrK7z0blDEjvXQewbYE3AtgJeQrGGQuE\")"
      ],
      "execution_count": 6,
      "outputs": []
    },
    {
      "cell_type": "code",
      "metadata": {
        "id": "Zq_9yw3XR4L2",
        "colab_type": "code",
        "colab": {
          "base_uri": "https://localhost:8080/",
          "height": 266
        },
        "outputId": "60fcf0f6-7418-4c5f-efb8-7d6a65c2f955"
      },
      "source": [
        "#Função Cria o Menu e interage com retorno de mensagem.\n",
        "\n",
        "def on_chat_message(msg):\n",
        "    content_type, chat_type, chat_id = telepot.glance(msg)\n",
        "    \n",
        "    keyboard = InlineKeyboardMarkup(inline_keyboard=[\n",
        "        [InlineKeyboardButton(text=\"Preparação da Pele\", callback_data='menu_1')],\n",
        "        [InlineKeyboardButton(text=\"Maquiagens Passo a Passo\", callback_data='menu_2')],\n",
        "        [InlineKeyboardButton(text=\"Novidades de Acessórios / Produtos\", callback_data='menu_3')],\n",
        "        [InlineKeyboardButton(text=\"Tendências de 2019\", callback_data='menu_4')],\n",
        "        [InlineKeyboardButton(text=\"Onde Comprar?\", callback_data='menu_5')],\n",
        "        ])\n",
        "    \n",
        "    isabot.sendMessage(chat_id, \"Olá! Que bom ter você por aqui! Utilize o menu abaixo para conferir algumas dicas de Maquiagem Profissional! Vamos lá? \", reply_markup=keyboard)\n",
        "   \n",
        "\n",
        "\n",
        "def on_callback_query(msg):\n",
        "    \n",
        "    query_id, from_id, query_data = telepot.glance(msg, flavor='callback_query')\n",
        "    \n",
        "    print(\"Callback Query: \", query_id, from_id, query_data)\n",
        "    \n",
        "    isabot.answerCallbackQuery(query_id, text=\"Dicas da Semana!\")\n",
        "    \n",
        "    if query_data == 'menu_1':\n",
        "    \n",
        "        #from_id - Código para envio de mensagem em resposta complementar ao clique na opção do menu.\n",
        "        isabot.sendMessage(from_id, \"1 – Remova as impurezas. Se você estiver maquiada, primeiro passe o demaquilante e depois lave bem o rosto com um sabonete próprio para limpeza profunda do rosto.\")\n",
        "        isabot.sendMessage(from_id, \"2 – Tonifique sua pele.\")\n",
        "        isabot.sendMessage(from_id, \"3 – Hidrate sua pele antes de aplicar a maquiagem.\")\n",
        "        isabot.sendMessage(from_id, \"4 – Use o primer para garantir melhores resultados.\")\n",
        "    \n",
        "        isabot.sendPhoto(from_id, 'https://pt.shopify.com/burst/imagens-hd/mao-de-mulher-e-parte-do-rosto?q=rosto')\n",
        "        isabot.sendMessage(from_id, \"Gostou das dicas? Digite algo para voltar ao menu.\")\n",
        "    \n",
        "    elif query_data == 'menu_2':\n",
        "        isabot.sendMessage(from_id, \"1 – Use base liquida ou cremosa e aplique corretivo de para manchas e olheiras.\")\n",
        "        isabot.sendMessage(from_id, \"2 – Passe as sombras certas usando os pinceis mais práticos.\")\n",
        "        isabot.sendMessage(from_id, \"3 – Use um pouco delineador para definir o formato do olho e rímel.\")\n",
        "        isabot.sendMessage(from_id, \"4 – Passe um pó compacto de cor ou translúcido no rosto.\")\n",
        "        isabot.sendMessage(from_id, \"5 – Aplicar pó bronzeador e blush nas maçãs do rosto.\")\n",
        "       \n",
        "        isabot.sendPhoto(from_id, 'https://pt.shopify.com/burst/imagens-hd/mulher-em-seda-rosa')\n",
        "        isabot.sendMessage(from_id, \"Gostou das dicas? Digite algo para voltar ao menu.\")\n",
        "    \n",
        "    elif query_data == 'menu_3':\n",
        "        isabot.sendMessage(from_id, \"1 – Powder - Pincel para Pó\")\n",
        "        isabot.sendMessage(from_id, \"2 – Concealer - Pincel para Corretivo\")\n",
        "        isabot.sendMessage(from_id, \"3 – Drama Blend - Esponja para Base e Corretivo\")\n",
        "        \n",
        "        isabot.sendPhoto(from_id, 'https://pt.shopify.com/burst/imagens-hd/maquiagem-po-base-e-pinceis?q=maquiagem')\n",
        "        isabot.sendMessage(from_id, \"Gostou das dicas? Digite algo para voltar ao menu.\")\n",
        "        \n",
        "    elif query_data == 'menu_4':\n",
        "        isabot.sendMessage(from_id, \"Preparamos um artigo muito especial para você! Acesse:\")\n",
        "        isabot.sendMessage(from_id, \"https://drive.google.com/file/d/1UVglWQXfPjhjhjhbPPsDnP9t3nb6rFZ/view?usp=sharing\")\n",
        "        isabot.sendMessage(from_id, \"Gostou das dicas? Digite algo para voltar ao menu.\")\n",
        "        \n",
        "        \n",
        "    elif query_data == 'menu_5':\n",
        "        isabot.sendMessage(from_id, \"Veja onde comprar produtos! Acesse:\")\n",
        "        isabot.sendMessage(from_id, \"https://docs.google.com/spreadsheets/d/1Mk9N1iW7Sg__JiEO4UkrtP6F8UsNFjHufv1MptaEThQ/edit#gid=0\")\n",
        "        isabot.sendMessage(from_id, \"Gostou das dicas? Digite algo para voltar ao menu.\")\n",
        "          \n",
        "    \n",
        "isabot.message_loop({'chat': on_chat_message,\n",
        "                     'callback_query': on_callback_query })\n",
        "\n",
        "\n",
        "while 1:\n",
        "    time.sleep(3)"
      ],
      "execution_count": 7,
      "outputs": [
        {
          "output_type": "stream",
          "text": [
            "Callback Query:  1824144765546033129 424716799 menu_1\n",
            "Callback Query:  1824144765753535116 424716799 menu_2\n",
            "Callback Query:  1824144761883135292 424716799 menu_5\n",
            "Callback Query:  1824144762050686660 424716799 menu_3\n"
          ],
          "name": "stdout"
        },
        {
          "output_type": "error",
          "ename": "KeyboardInterrupt",
          "evalue": "ignored",
          "traceback": [
            "\u001b[0;31m---------------------------------------------------------------------------\u001b[0m",
            "\u001b[0;31mKeyboardInterrupt\u001b[0m                         Traceback (most recent call last)",
            "\u001b[0;32m<ipython-input-7-8e925a792e3a>\u001b[0m in \u001b[0;36m<module>\u001b[0;34m()\u001b[0m\n\u001b[1;32m     70\u001b[0m \u001b[0;34m\u001b[0m\u001b[0m\n\u001b[1;32m     71\u001b[0m \u001b[0;32mwhile\u001b[0m \u001b[0;36m1\u001b[0m\u001b[0;34m:\u001b[0m\u001b[0;34m\u001b[0m\u001b[0;34m\u001b[0m\u001b[0m\n\u001b[0;32m---> 72\u001b[0;31m     \u001b[0mtime\u001b[0m\u001b[0;34m.\u001b[0m\u001b[0msleep\u001b[0m\u001b[0;34m(\u001b[0m\u001b[0;36m3\u001b[0m\u001b[0;34m)\u001b[0m\u001b[0;34m\u001b[0m\u001b[0;34m\u001b[0m\u001b[0m\n\u001b[0m",
            "\u001b[0;31mKeyboardInterrupt\u001b[0m: "
          ]
        }
      ]
    }
  ]
}